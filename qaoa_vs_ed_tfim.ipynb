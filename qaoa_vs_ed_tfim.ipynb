{
 "cells": [
  {
   "cell_type": "markdown",
   "metadata": {},
   "source": [
    "# In this note book we will analyze the transeverse field Ising model (TFIM) by using ED and QAOA\n",
    "\n",
    "The many-body spin Hamiltnonian in 1-d is given by:\n",
    "\n",
    "$$ \\mathcal{H}= -(1-t)\\sum_{i}\\sigma^z_i\\sigma^z_{i+1}-t\\sum_i \\sigma^x_i $$\n",
    "\n",
    "This is an exactly solvable model, the sollution can be found in the second chapter of <a href=\"https://arxiv.org/pdf/0904.2771.pdf\">this lecture note</a>.\n",
    "\n",
    "For the limit $t=0$, this has a ferromagnetic (FM) ground state (GS) with two fold degeneracy, which spontaneously breaks the global $Z_2$ symmetry of the Hamiltonian. In the limit $t=1$, the GS is unique (called paramagetic, i.e. PM) and doesn't break any symmetry.\n",
    "\n",
    "In this notebook we will do the following things:\n",
    "\n",
    "* <a href='#ed'>Solve it using ED</a>\n",
    "* <a href='#qaoa'>Solve it using QAOA</a>\n",
    "* <a href='#compare'>Comapre the results</a>\n",
    "* <a href='#expect_value'>Magnetization and the correlations.</a>"
   ]
  },
  {
   "cell_type": "markdown",
   "metadata": {},
   "source": [
    "# Exact diagonalization <a id='ed'></a>"
   ]
  },
  {
   "cell_type": "code",
   "execution_count": 1,
   "metadata": {},
   "outputs": [],
   "source": [
    "# basic python operations\n",
    "import numpy as np\n",
    "\n",
    "# scientific coputing\n",
    "from functools import reduce\n",
    "import scipy.sparse as sps\n",
    "import scipy.sparse.linalg as spslin\n",
    "from scipy.optimize import curve_fit\n",
    "\n",
    "# visualization\n",
    "import matplotlib.pyplot as plt\n",
    "\n",
    "# Loading the Pauli matrices\n",
    "\n",
    "Id = sps.eye(2)\n",
    "Sx = sps.csr_matrix(np.array([[0,1.+0.j],[1+0.j,0]]))\n",
    "Sy = sps.csr_matrix(np.array([[0,-1.j],[1.j,0]]))\n",
    "Sz = sps.csr_matrix(np.array([[1+0.j,0.],[0,-1+0.j]]))"
   ]
  },
  {
   "cell_type": "markdown",
   "metadata": {},
   "source": [
    "### Building the many-body Hamiltonian"
   ]
  },
  {
   "cell_type": "code",
   "execution_count": 2,
   "metadata": {},
   "outputs": [],
   "source": [
    "def ham_general(L,static):\n",
    "    ham_gen=np.zeros(shape=(2**L,2**L),dtype=np.complex)\n",
    "    for item in static:\n",
    "        string=item[0]\n",
    "        for inside in item[1:len(item)]:\n",
    "            for j in range(len(inside)):\n",
    "                op_list=[Id]*L\n",
    "                for k in range(len(string)):\n",
    "                    if string[k]=='x':\n",
    "                        op_list[inside[j][k+1]]=Sx\n",
    "                    elif string[k]=='y':\n",
    "                        op_list[inside[j][k+1]]=Sy\n",
    "                    elif string[k]=='z':\n",
    "                        op_list[inside[j][k+1]]=Sz\n",
    "                #print(reduce(sps.kron,op_list).toarray())\n",
    "                ham_gen += inside[j][0]*reduce(sps.kron,op_list).toarray()\n",
    "    #            \n",
    "    return ham_gen"
   ]
  },
  {
   "cell_type": "markdown",
   "metadata": {},
   "source": [
    "### System size (SS): L=6"
   ]
  },
  {
   "cell_type": "code",
   "execution_count": 3,
   "metadata": {},
   "outputs": [],
   "source": [
    "L=6\n",
    "t_arr=np.linspace(0,1,21)\n",
    "evalu=8\n",
    "\n",
    "energy_ed=np.ndarray(shape=(len(t_arr),evalu))\n",
    "gs_vec=np.ndarray(shape=(2**L,len(t_arr)),dtype=np.complex)\n",
    "\n",
    "for j in range(len(t_arr)):\n",
    "    ## defining the parameter\n",
    "    g=t_arr[j]\n",
    "    J=(1-t_arr[j])\n",
    "    ## making the adjacent matrix\n",
    "    x_field=[[-g,i] for i in range(L)]\n",
    "    J_nn=[[-J,i,(i+1)%L] for i in range(L)]\n",
    "    static=[[\"zz\",J_nn],[\"x\",x_field]]\n",
    "    ## diagonalization of the Hamiltonian\n",
    "    hamiltonian=ham_general(L,static)\n",
    "    (e2,u) = spslin.eigsh(hamiltonian, k=evalu, which='SA',return_eigenvectors=True)\n",
    "    energy_ed[j,:]=np.sort(e2)\n",
    "    gs_vec[:,j]=u[:,0]"
   ]
  },
  {
   "cell_type": "markdown",
   "metadata": {},
   "source": [
    "# Solving the problem with QAOA <a id='qaoa'></a>\n",
    "\n",
    "QAOA method is a <a href='https://arxiv.org/abs/1411.4028'>variational method</a>, which is in turn inspired by the <a href='https://arxiv.org/abs/quant-ph/0001106'>adiabatic quantum computation</a>. We alternatively apply rotation with respect to the Hamiltonoan (any) and a mixer term (uniform x-field) with the angles $\\gamma$ and $\\beta$ respectively. After computing the energy of the final state at the end of the rotation, using the Hamiltonian, we get \n",
    "\n",
    "$$F(\\overrightarrow{\\beta},\\overrightarrow{\\gamma})\\equiv<\\psi{(\\overrightarrow{\\beta},\\overrightarrow{\\gamma})}|\\mathcal{H}|\\psi{(\\overrightarrow{\\beta},\\overrightarrow{\\gamma})}>$$\n",
    "\n",
    "With $|\\psi{(\\overrightarrow{\\beta},\\overrightarrow{\\gamma})}> =  \\left(e^{-i\\beta_p B}e^{-i\\gamma_p H}\\right)\\cdots \\left(e^{-i\\beta_1 B}e^{-i\\gamma_1 C}\\right) H^{\\otimes n} |0>$. Next we optimize the rotation angle so that the energy of the final state is minimized, and we get a optimal set of $(\\overrightarrow{\\beta}^*,\\overrightarrow{\\gamma}^*)$, and the supposedly GS of the system. Since the optimization is done in a classical computer, while the rotation is performed in quantum computer, this is called hybrid solver, which is claimed to be useful for the current noisy quantum computers available today. Thus the current era of quantum computing is called the era of <a href='https://quantum-journal.org/papers/q-2018-08-06-79/'>noisy intermediate-scale quantum (NISQ)</a> computing.\n",
    "\n",
    "The claim is if we increase this alternate layer, we get more closer to the GS.\n",
    "\n",
    "This is the full circuit, with we will now choose, $p=1~;~\\beta=\\text{x-field angle} (B);~\\gamma=\\text{Hamiltonian angle}(\\mathcal{H})$\n",
    "\n",
    "\n",
    "<img src=\"./qaoa.jpeg\" width=\"700\" height=\"700\">\n"
   ]
  },
  {
   "cell_type": "code",
   "execution_count": 4,
   "metadata": {},
   "outputs": [
    {
     "data": {
      "text/plain": [
       "{'qiskit-terra': '0.17.1', 'qiskit-aer': '0.8.2', 'qiskit-ignis': '0.6.0', 'qiskit-ibmq-provider': '0.12.3', 'qiskit-aqua': '0.9.1', 'qiskit': '0.25.3', 'qiskit-nature': None, 'qiskit-finance': None, 'qiskit-optimization': None, 'qiskit-machine-learning': None}"
      ]
     },
     "execution_count": 4,
     "metadata": {},
     "output_type": "execute_result"
    }
   ],
   "source": [
    "import qiskit\n",
    "qiskit.__qiskit_version__"
   ]
  },
  {
   "cell_type": "code",
   "execution_count": 5,
   "metadata": {},
   "outputs": [],
   "source": [
    "# to set up the problem\n",
    "import networkx as nx\n",
    "\n",
    "# for classical optimization\n",
    "from scipy.optimize import minimize\n",
    "\n",
    "# for quantum computataion\n",
    "from qiskit import QuantumCircuit, QuantumRegister, ClassicalRegister, execute, Aer\n",
    "from qiskit.visualization import plot_histogram"
   ]
  },
  {
   "cell_type": "markdown",
   "metadata": {},
   "source": [
    "## Creating the graph"
   ]
  },
  {
   "cell_type": "code",
   "execution_count": 6,
   "metadata": {},
   "outputs": [
    {
     "data": {
      "image/png": "[encoded data removed]",
      "text/plain": [
       "<Figure size 432x288 with 1 Axes>"
      ]
     },
     "metadata": {},
     "output_type": "display_data"
    }
   ],
   "source": [
    "G = nx.Graph()\n",
    "G.add_nodes_from([i for i in range(L)])\n",
    "G.add_edges_from([[i,i+1] for i in range(L-1)])\n",
    "G.add_edges_from([[L-1,0]])\n",
    "options = {\n",
    "    'node_color': 'y',\n",
    "    'node_size': 1000,\n",
    "    'width': 3,\n",
    "}\n",
    "nx.draw(G, with_labels=True,pos=nx.circular_layout(G),**options)"
   ]
  },
  {
   "cell_type": "code",
   "execution_count": 7,
   "metadata": {},
   "outputs": [
    {
     "name": "stdout",
     "output_type": "stream",
     "text": [
      "[(0, 1), (0, 5), (1, 2), (2, 3), (3, 4), (4, 5)]\n",
      "6\n"
     ]
    }
   ],
   "source": [
    "print(list(G.edges()))\n",
    "print(G.number_of_nodes())"
   ]
  },
  {
   "cell_type": "markdown",
   "metadata": {},
   "source": [
    "## Defining the rotation circuit corresponding to the Hamiltonian\n",
    "\n",
    "Bellow we define the rotation Hamiltonian in a quantum circuit"
   ]
  },
  {
   "cell_type": "code",
   "execution_count": 8,
   "metadata": {},
   "outputs": [],
   "source": [
    "def ham_rot(G,gamma):\n",
    "    L=G.number_of_nodes()\n",
    "    qc=QuantumCircuit(L,L)\n",
    "    for i,j in list(G.edges()):\n",
    "        qc.cx(i,j)\n",
    "        qc.rz(2*gamma,j)\n",
    "        qc.cx(i,j)\n",
    "    for n in G.nodes():\n",
    "        qc.rx(2*gamma, n)\n",
    "    return qc"
   ]
  },
  {
   "cell_type": "code",
   "execution_count": 9,
   "metadata": {},
   "outputs": [
    {
     "name": "stdout",
     "output_type": "stream",
     "text": [
      "[(0, 1), (0, 5), (1, 2), (2, 3), (3, 4), (4, 5)]\n"
     ]
    },
    {
     "data": {
      "text/html": [
       "<pre style=\"word-wrap: normal;white-space: pre;background: #fff0;line-height: 1.1;font-family: &quot;Courier New&quot;,Courier,monospace\">                                                             ┌──────────┐»\n",
       "q_0: ──■────────────────■────■────────────────────────────■──┤ RX(2π/3) ├»\n",
       "     ┌─┴─┐┌──────────┐┌─┴─┐  │                            │  └──────────┘»\n",
       "q_1: ┤ X ├┤ RZ(2π/3) ├┤ X ├──┼───────■────────────────────┼───────■──────»\n",
       "     └───┘└──────────┘└───┘  │     ┌─┴─┐    ┌──────────┐  │     ┌─┴─┐    »\n",
       "q_2: ────────────────────────┼─────┤ X ├────┤ RZ(2π/3) ├──┼─────┤ X ├────»\n",
       "                             │     └───┘    └──────────┘  │     └───┘    »\n",
       "q_3: ────────────────────────┼────────────────────────────┼──────────────»\n",
       "                             │                            │              »\n",
       "q_4: ────────────────────────┼────────────────────────────┼──────────────»\n",
       "                           ┌─┴─┐┌──────────┐            ┌─┴─┐            »\n",
       "q_5: ──────────────────────┤ X ├┤ RZ(2π/3) ├────────────┤ X ├────────────»\n",
       "                           └───┘└──────────┘            └───┘            »\n",
       "c: 6/════════════════════════════════════════════════════════════════════»\n",
       "                                                                         »\n",
       "«                                                                           »\n",
       "«q_0: ──────────────────────────────────────────────────────────────────────»\n",
       "«     ┌──────────┐                                                          »\n",
       "«q_1: ┤ RX(2π/3) ├──────────────────────────────────────────────────────────»\n",
       "«     └──────────┘                 ┌──────────┐                             »\n",
       "«q_2: ─────■────────────────────■──┤ RX(2π/3) ├─────────────────────────────»\n",
       "«        ┌─┴─┐    ┌──────────┐┌─┴─┐└──────────┘                 ┌──────────┐»\n",
       "«q_3: ───┤ X ├────┤ RZ(2π/3) ├┤ X ├─────■────────────────────■──┤ RX(2π/3) ├»\n",
       "«        └───┘    └──────────┘└───┘   ┌─┴─┐    ┌──────────┐┌─┴─┐└──────────┘»\n",
       "«q_4: ────────────────────────────────┤ X ├────┤ RZ(2π/3) ├┤ X ├─────■──────»\n",
       "«                                     └───┘    └──────────┘└───┘   ┌─┴─┐    »\n",
       "«q_5: ─────────────────────────────────────────────────────────────┤ X ├────»\n",
       "«                                                                  └───┘    »\n",
       "«c: 6/══════════════════════════════════════════════════════════════════════»\n",
       "«                                                                           »\n",
       "«                                  \n",
       "«q_0: ─────────────────────────────\n",
       "«                                  \n",
       "«q_1: ─────────────────────────────\n",
       "«                                  \n",
       "«q_2: ─────────────────────────────\n",
       "«                                  \n",
       "«q_3: ─────────────────────────────\n",
       "«                      ┌──────────┐\n",
       "«q_4: ──────────────■──┤ RX(2π/3) ├\n",
       "«     ┌──────────┐┌─┴─┐├──────────┤\n",
       "«q_5: ┤ RZ(2π/3) ├┤ X ├┤ RX(2π/3) ├\n",
       "«     └──────────┘└───┘└──────────┘\n",
       "«c: 6/═════════════════════════════\n",
       "«                                  </pre>"
      ],
      "text/plain": [
       "                                                             ┌──────────┐»\n",
       "q_0: ──■────────────────■────■────────────────────────────■──┤ RX(2π/3) ├»\n",
       "     ┌─┴─┐┌──────────┐┌─┴─┐  │                            │  └──────────┘»\n",
       "q_1: ┤ X ├┤ RZ(2π/3) ├┤ X ├──┼───────■────────────────────┼───────■──────»\n",
       "     └───┘└──────────┘└───┘  │     ┌─┴─┐    ┌──────────┐  │     ┌─┴─┐    »\n",
       "q_2: ────────────────────────┼─────┤ X ├────┤ RZ(2π/3) ├──┼─────┤ X ├────»\n",
       "                             │     └───┘    └──────────┘  │     └───┘    »\n",
       "q_3: ────────────────────────┼────────────────────────────┼──────────────»\n",
       "                             │                            │              »\n",
       "q_4: ────────────────────────┼────────────────────────────┼──────────────»\n",
       "                           ┌─┴─┐┌──────────┐            ┌─┴─┐            »\n",
       "q_5: ──────────────────────┤ X ├┤ RZ(2π/3) ├────────────┤ X ├────────────»\n",
       "                           └───┘└──────────┘            └───┘            »\n",
       "c: 6/════════════════════════════════════════════════════════════════════»\n",
       "                                                                         »\n",
       "«                                                                           »\n",
       "«q_0: ──────────────────────────────────────────────────────────────────────»\n",
       "«     ┌──────────┐                                                          »\n",
       "«q_1: ┤ RX(2π/3) ├──────────────────────────────────────────────────────────»\n",
       "«     └──────────┘                 ┌──────────┐                             »\n",
       "«q_2: ─────■────────────────────■──┤ RX(2π/3) ├─────────────────────────────»\n",
       "«        ┌─┴─┐    ┌──────────┐┌─┴─┐└──────────┘                 ┌──────────┐»\n",
       "«q_3: ───┤ X ├────┤ RZ(2π/3) ├┤ X ├─────■────────────────────■──┤ RX(2π/3) ├»\n",
       "«        └───┘    └──────────┘└───┘   ┌─┴─┐    ┌──────────┐┌─┴─┐└──────────┘»\n",
       "«q_4: ────────────────────────────────┤ X ├────┤ RZ(2π/3) ├┤ X ├─────■──────»\n",
       "«                                     └───┘    └──────────┘└───┘   ┌─┴─┐    »\n",
       "«q_5: ─────────────────────────────────────────────────────────────┤ X ├────»\n",
       "«                                                                  └───┘    »\n",
       "«c: 6/══════════════════════════════════════════════════════════════════════»\n",
       "«                                                                           »\n",
       "«                                  \n",
       "«q_0: ─────────────────────────────\n",
       "«                                  \n",
       "«q_1: ─────────────────────────────\n",
       "«                                  \n",
       "«q_2: ─────────────────────────────\n",
       "«                                  \n",
       "«q_3: ─────────────────────────────\n",
       "«                      ┌──────────┐\n",
       "«q_4: ──────────────■──┤ RX(2π/3) ├\n",
       "«     ┌──────────┐┌─┴─┐├──────────┤\n",
       "«q_5: ┤ RZ(2π/3) ├┤ X ├┤ RX(2π/3) ├\n",
       "«     └──────────┘└───┘└──────────┘\n",
       "«c: 6/═════════════════════════════\n",
       "«                                  "
      ]
     },
     "execution_count": 9,
     "metadata": {},
     "output_type": "execute_result"
    }
   ],
   "source": [
    "qc = ham_rot(G, np.pi/3)\n",
    "print(G.edges())\n",
    "qc.draw()"
   ]
  },
  {
   "cell_type": "code",
   "execution_count": 10,
   "metadata": {},
   "outputs": [],
   "source": [
    "def x_field_rot(G, beta):\n",
    "    N = G.number_of_nodes()\n",
    "    qc = QuantumCircuit(N,N)\n",
    "    for n in G.nodes():\n",
    "        qc.rx(2*beta, n)\n",
    "    return qc"
   ]
  },
  {
   "cell_type": "code",
   "execution_count": 11,
   "metadata": {},
   "outputs": [
    {
     "data": {
      "text/html": [
       "<pre style=\"word-wrap: normal;white-space: pre;background: #fff0;line-height: 1.1;font-family: &quot;Courier New&quot;,Courier,monospace\">     ┌──────────┐\n",
       "q_0: ┤ RX(2π/3) ├\n",
       "     ├──────────┤\n",
       "q_1: ┤ RX(2π/3) ├\n",
       "     ├──────────┤\n",
       "q_2: ┤ RX(2π/3) ├\n",
       "     ├──────────┤\n",
       "q_3: ┤ RX(2π/3) ├\n",
       "     ├──────────┤\n",
       "q_4: ┤ RX(2π/3) ├\n",
       "     ├──────────┤\n",
       "q_5: ┤ RX(2π/3) ├\n",
       "     └──────────┘\n",
       "c: 6/════════════\n",
       "                 </pre>"
      ],
      "text/plain": [
       "     ┌──────────┐\n",
       "q_0: ┤ RX(2π/3) ├\n",
       "     ├──────────┤\n",
       "q_1: ┤ RX(2π/3) ├\n",
       "     ├──────────┤\n",
       "q_2: ┤ RX(2π/3) ├\n",
       "     ├──────────┤\n",
       "q_3: ┤ RX(2π/3) ├\n",
       "     ├──────────┤\n",
       "q_4: ┤ RX(2π/3) ├\n",
       "     ├──────────┤\n",
       "q_5: ┤ RX(2π/3) ├\n",
       "     └──────────┘\n",
       "c: 6/════════════\n",
       "                 "
      ]
     },
     "execution_count": 11,
     "metadata": {},
     "output_type": "execute_result"
    }
   ],
   "source": [
    "qc = x_field_rot(G, np.pi/3)\n",
    "qc.draw()"
   ]
  },
  {
   "cell_type": "markdown",
   "metadata": {},
   "source": [
    "### Defining the QAOA circuit"
   ]
  },
  {
   "cell_type": "code",
   "execution_count": 12,
   "metadata": {},
   "outputs": [],
   "source": [
    "def get_qaoa_circuit_sv(G, beta, gamma):\n",
    "    assert(len(beta) == len(gamma))\n",
    "    p = len(beta) # infering number of QAOA steps from the parameters passed\n",
    "    N = G.number_of_nodes()\n",
    "    qc = QuantumCircuit(N,N)\n",
    "    # first, apply a layer of Hadamards\n",
    "    qc.h(range(N))\n",
    "    # second, apply p alternating operators\n",
    "    for k in range(p):\n",
    "        qc=qc+ham_rot(G,gamma[k])\n",
    "        qc=qc+x_field_rot(G,beta[k])\n",
    "    # no measurement in the end!\n",
    "    return qc"
   ]
  },
  {
   "cell_type": "code",
   "execution_count": 13,
   "metadata": {},
   "outputs": [],
   "source": [
    "def compute_ising_energy_sv(sv_old,hamilton):\n",
    "    \"\"\"Compute objective from statevector\n",
    "    For large number of qubits, this is slow. \n",
    "    \"\"\"\n",
    "    sv=np.flip(sv_old)\n",
    "    #sv=np.array(sv_old)\n",
    "    adjsv=np.conjugate(sv)\n",
    "    mult=np.matmul(hamilton, sv)\n",
    "    ener=np.matmul(adjsv,mult)\n",
    "    return ener.real"
   ]
  },
  {
   "cell_type": "code",
   "execution_count": 14,
   "metadata": {},
   "outputs": [],
   "source": [
    "def get_black_box_objective_sv(G, p, hamilton, energy_sv):\n",
    "    backend = Aer.get_backend('statevector_simulator')\n",
    "    def f(theta):\n",
    "        # let's assume first half is betas, second half is gammas\n",
    "        beta = theta[:p]\n",
    "        gamma = theta[p:]\n",
    "        qc = get_qaoa_circuit_sv(G,beta, gamma)\n",
    "        sv = execute(qc, backend).result().get_statevector()  # the sv is np.array with complex entries\n",
    "        # return the energy\n",
    "        ener=compute_ising_energy_sv(sv, hamilton)\n",
    "        energy_sv.append(ener)\n",
    "        return ener, energy_sv\n",
    "    return f"
   ]
  },
  {
   "cell_type": "code",
   "execution_count": 15,
   "metadata": {},
   "outputs": [
    {
     "name": "stderr",
     "output_type": "stream",
     "text": [
      "/Users/animeshnanda/anaconda3/lib/python3.7/site-packages/ipykernel_launcher.py:10: DeprecationWarning: The QuantumCircuit.__add__() method is being deprecated.Use the compose() method which is more flexible w.r.t circuit register compatibility.\n",
      "  # Remove the CWD from sys.path while we load stuff.\n",
      "/Users/animeshnanda/anaconda3/lib/python3.7/site-packages/qiskit/circuit/quantumcircuit.py:869: DeprecationWarning: The QuantumCircuit.combine() method is being deprecated. Use the compose() method which is more flexible w.r.t circuit register compatibility.\n",
      "  return self.combine(rhs)\n"
     ]
    }
   ],
   "source": [
    "# we are choosing p number of layers\n",
    "\n",
    "p=8\n",
    "angle_arr=np.ndarray(shape=(len(t_arr),2*p))\n",
    "gs_energy_qaoa=np.ndarray(shape=(len(t_arr),))\n",
    "n_iter=np.ndarray(shape=(len(t_arr),))\n",
    "\n",
    "for j in range(len(t_arr)):\n",
    "    energy_sv=[]\n",
    "    np.random.seed(123)\n",
    "    init_point = np.random.rand(2*p)\n",
    "    # define Hamiltonian\n",
    "    g=t_arr[j]\n",
    "    J=(1-t_arr[j])\n",
    "    ## making the adjacent matrix\n",
    "    x_field=[[-g,i] for i in range(L)]\n",
    "    J_nn=[[-J,i,(i+1)%L] for i in range(L)]\n",
    "    static=[[\"zz\",J_nn],[\"x\",x_field]]\n",
    "    hamiltonian=ham_general(L,static)\n",
    "    obj = get_black_box_objective_sv(G, p, hamiltonian,energy_sv)\n",
    "    # We are going to limit the number of iterations to 2500\n",
    "    res_sv = minimize(obj, init_point, method='COBYLA', options={'maxiter':2500, 'disp': False})\n",
    "    angle_arr[j,:]=res_sv['x']\n",
    "    gs_energy_qaoa[j]=res_sv['fun']\n",
    "    n_iter[j]=res_sv['nfev']"
   ]
  },
  {
   "cell_type": "code",
   "execution_count": 16,
   "metadata": {},
   "outputs": [
    {
     "data": {
      "text/plain": [
       "(array([-5.99999749, -5.70393983, -5.41667129, -5.13978302, -4.87534144,\n",
       "        -4.62612836, -4.39616219, -4.19162725, -4.02277284, -3.90631713,\n",
       "        -3.86370077, -3.90630706, -4.02277377, -4.19162994, -4.39615888,\n",
       "        -4.62613143, -4.8753406 , -5.13978866, -5.41665853, -5.70394774,\n",
       "        -5.9999978 ]),\n",
       " array([496., 553., 523., 572., 544., 587., 312., 519., 542., 595., 689.,\n",
       "        738., 959., 638., 432., 508., 372., 351., 423., 288., 372.]))"
      ]
     },
     "execution_count": 16,
     "metadata": {},
     "output_type": "execute_result"
    }
   ],
   "source": [
    "gs_energy_qaoa,n_iter"
   ]
  },
  {
   "cell_type": "markdown",
   "metadata": {},
   "source": [
    "# Comparing the results <a id='compare'></a>\n",
    "\n",
    "We will now compare the results from the two methods, by looking at the GS energy and the overlap between the GS obtained in different methods.\n",
    "\n",
    "Run the circuit for one more time for each values of $t$ with the optimal theta."
   ]
  },
  {
   "cell_type": "code",
   "execution_count": 17,
   "metadata": {},
   "outputs": [],
   "source": [
    "new_sv=np.ndarray(shape=(2**L,len(t_arr)),dtype=np.complex)\n",
    "\n",
    "for j in range(len(t_arr)):\n",
    "    optimal_theta = angle_arr[j,:]\n",
    "    qc = get_qaoa_circuit_sv(G, optimal_theta[:p], optimal_theta[p:])\n",
    "    backend = Aer.get_backend('statevector_simulator')\n",
    "    new_sv[:,j] = execute(qc, backend).result().get_statevector()"
   ]
  },
  {
   "cell_type": "code",
   "execution_count": 18,
   "metadata": {},
   "outputs": [
    {
     "data": {
      "image/png": "[encoded data removed]",
      "text/plain": [
       "<Figure size 432x360 with 1 Axes>"
      ]
     },
     "metadata": {
      "needs_background": "light"
     },
     "output_type": "display_data"
    }
   ],
   "source": [
    "ms,fs=8,12\n",
    "\n",
    "plt.figure(figsize=(6,5))\n",
    "# plt.ylim(-0.2,4.2)\n",
    "\n",
    "plt.plot(t_arr,energy_ed[:,0],'cs-',markersize=ms+2,label='GS energy ED')\n",
    "plt.plot(t_arr,gs_energy_qaoa,'k*',markersize=ms,label='GS energy QAOA')\n",
    "\n",
    "plt.xlabel('$t$',fontsize=fs)\n",
    "plt.ylabel('GS energy',fontsize=fs)\n",
    "plt.xticks(fontsize=fs)\n",
    "plt.yticks(fontsize=fs)\n",
    "plt.legend(loc='best',fontsize=fs)\n",
    "plt.grid()\n",
    "plt.tight_layout()\n",
    "plt.show()"
   ]
  },
  {
   "cell_type": "code",
   "execution_count": 19,
   "metadata": {},
   "outputs": [
    {
     "data": {
      "image/png": "[encoded data removed]",
      "text/plain": [
       "<Figure size 432x360 with 1 Axes>"
      ]
     },
     "metadata": {
      "needs_background": "light"
     },
     "output_type": "display_data"
    }
   ],
   "source": [
    "fidelity=np.ndarray(shape=(len(t_arr),))\n",
    "\n",
    "for j in range(len(t_arr)):\n",
    "    fidelity[j]=abs(np.matmul(np.conjugate(new_sv[:,j]),gs_vec[:,j]))\n",
    "    \n",
    "# plotting the data\n",
    "ms,fs=6,12\n",
    "\n",
    "plt.figure(figsize=(6,5))\n",
    "\n",
    "plt.plot(t_arr,fidelity,'b*-',markersize=ms,label='Inner porduct')\n",
    "\n",
    "plt.xlabel('$t$',fontsize=fs)\n",
    "plt.ylabel('Inner product',fontsize=fs)\n",
    "plt.xticks(fontsize=fs)\n",
    "plt.yticks(fontsize=fs)\n",
    "plt.legend(loc='best',fontsize=fs)\n",
    "plt.grid()\n",
    "plt.tight_layout()\n",
    "plt.show()"
   ]
  },
  {
   "cell_type": "markdown",
   "metadata": {},
   "source": [
    "We see that although the ground state enrgy computed using both the methods mathes pretty well, however the fidelity or the inner product between the GS vectors sometimes are orthogonal to each other, while matching perfectly most of the time.\n",
    "\n",
    "This disagreement can be attributed to reasons \n",
    "\n",
    "* First, it could be due to <a href='https://journals.aps.org/prl/abstract/10.1103/PhysRevLett.18.1049'>Anderson's orthogonalty catastrophe</a>, which says that in the increasing system size, the GS of two Hamiltonians with a arbitraryly small perturbation decreases with the increasing system size, and becomes zero in the infinite system size.\n",
    "\n",
    "* Second, we know that in the FM case there are two fold degenerate GS which are orthogonal to each other. It could well be the two different GS are chosen by two methods, that's why we are getting a zero overlap.\n",
    "\n",
    "Next we will look at the magnetization and the $\\sigma_z$ correlation function as distance to characterize the phases.\n",
    "\n",
    "# Calculating expectation values <a id='expect_value'></a>\n",
    "\n",
    "### Magnetization calculated for both statevector\n",
    "\n",
    "Magnetization is defined as:\n",
    "\n",
    "$$ m(x)=\\frac{1}{L}\\sum_{i}\\langle\\sigma^x_i \\rangle $$, where $\\langle.\\rangle$ denote the ground state expectation value."
   ]
  },
  {
   "cell_type": "code",
   "execution_count": 20,
   "metadata": {},
   "outputs": [],
   "source": [
    "# definging the magnetization operator\n",
    "\n",
    "x_field=[[1./L,i] for i in range(L)]\n",
    "static=[[\"x\",x_field]]\n",
    "hamiltonian=ham_general(L,static)\n",
    "\n",
    "magnet_ed=np.ndarray(shape=(len(t_arr),))\n",
    "magnet_qaoa=np.ndarray(shape=(len(t_arr),))\n",
    "\n",
    "for j in range(len(t_arr)):\n",
    "    vec_ed = np.array(gs_vec[:,j])\n",
    "    vec_qaoa = np.array(new_sv[:,j])\n",
    "    magnet_ed[j] = np.matmul(np.conjugate(vec_ed),np.matmul(hamiltonian,vec_ed)).real\n",
    "    magnet_qaoa[j] = np.matmul(np.conjugate(vec_qaoa),np.matmul(hamiltonian,vec_qaoa)).real"
   ]
  },
  {
   "cell_type": "code",
   "execution_count": 21,
   "metadata": {},
   "outputs": [
    {
     "data": {
      "image/png": "[encoded data removed]",
      "text/plain": [
       "<Figure size 432x360 with 1 Axes>"
      ]
     },
     "metadata": {
      "needs_background": "light"
     },
     "output_type": "display_data"
    }
   ],
   "source": [
    "ms,fs=8,12\n",
    "\n",
    "plt.figure(figsize=(6,5))\n",
    "# plt.ylim(-0.2,4.2)\n",
    "\n",
    "plt.plot(t_arr,magnet_ed,'cs-',markersize=ms+2,label='x-magnetization ED')\n",
    "plt.plot(t_arr,magnet_qaoa,'k*',markersize=ms,label='x-magnetization QAOA')\n",
    "\n",
    "plt.xlabel('$t$',fontsize=fs)\n",
    "plt.ylabel('GS energy',fontsize=fs)\n",
    "plt.xticks(fontsize=fs)\n",
    "plt.yticks(fontsize=fs)\n",
    "plt.legend(loc='best',fontsize=fs)\n",
    "plt.grid()\n",
    "plt.tight_layout()\n",
    "plt.show()"
   ]
  },
  {
   "cell_type": "markdown",
   "metadata": {},
   "source": [
    "## $\\langle\\sigma^z\\sigma^z\\rangle $ Correlation function\n",
    "\n",
    "The correlator function is defined as \n",
    "\n",
    "$$ C(r)=\\frac{1}{L}\\langle \\sum_{i}\\sigma^z_{i}\\sigma^z_{i+r}\\rangle $$\n",
    "\n",
    "Sometime, the self correlator is subtracted, thus the $C(r)$ becomes a connected correlator, but here we will use the above definition."
   ]
  },
  {
   "cell_type": "code",
   "execution_count": 22,
   "metadata": {},
   "outputs": [],
   "source": [
    "t_arr_new=t_arr[0:len(t_arr):2]\n",
    "corr_ed=np.ndarray(shape=(len(t_arr_new), len(range(0,L+1))))\n",
    "corr_qaoa=np.ndarray(shape=(len(t_arr_new), len(range(0,L+1))))\n",
    "\n",
    "# setting the self correlator as 1\n",
    "corr_ed[:,0]=1.\n",
    "corr_qaoa[:,0]=1.\n",
    "#\n",
    "corr_ed[:,-1]=1.\n",
    "corr_qaoa[:,-1]=1.\n",
    "\n",
    "s=np.arange(L)\n",
    "\n",
    "for k in range(1,L):\n",
    "    Txk=(s+k)%L\n",
    "    zz_cor=[[1./L,i,Txk[i]] for i in range(L)]\n",
    "    static=[[\"zz\",zz_cor]]\n",
    "    hamiltonian=ham_general(L,static)\n",
    "    for j in range(len(t_arr_new)):\n",
    "        vec_ed = np.array(gs_vec[:,j*2])\n",
    "        vec_qaoa = np.array(new_sv[:,j*2])\n",
    "        corr_ed[j,k] = np.matmul(np.conjugate(vec_ed),np.matmul(hamiltonian,vec_ed)).real\n",
    "        corr_qaoa[j,k] = np.matmul(np.conjugate(vec_qaoa),np.matmul(hamiltonian,vec_qaoa)).real"
   ]
  },
  {
   "cell_type": "code",
   "execution_count": 23,
   "metadata": {},
   "outputs": [
    {
     "data": {
      "image/png": "[encoded data removed]",
      "text/plain": [
       "<Figure size 432x360 with 1 Axes>"
      ]
     },
     "metadata": {
      "needs_background": "light"
     },
     "output_type": "display_data"
    }
   ],
   "source": [
    "r=[i for i in range(L+1)]\n",
    "\n",
    "ms,fs=8,12\n",
    "\n",
    "plt.figure(figsize=(6,5))\n",
    "plt.xlim(-2.1,6.2)\n",
    "\n",
    "color1=['c','y','m','b','g']\n",
    "color2=['k','m','g','y','r']\n",
    "\n",
    "for j in range(0,10,2):\n",
    "    plt.plot(r,corr_ed[j,:],'%ss-'%(color1[j//2]),markersize=ms+2,label='ED t=%.2f'%(t_arr_new[j]))\n",
    "    \n",
    "for j in range(0,10,2):\n",
    "    plt.plot(r,corr_ed[j,:],'%s*'%(color2[j//2]),markersize=ms,label='QAOA t=%.2f'%(t_arr_new[j]))\n",
    "\n",
    "plt.xlabel('r',fontsize=fs)\n",
    "plt.ylabel('C(r)',fontsize=fs)\n",
    "plt.xticks(fontsize=fs)\n",
    "plt.yticks(fontsize=fs)\n",
    "plt.legend(loc='best',fontsize=fs)\n",
    "plt.grid()\n",
    "plt.tight_layout()\n",
    "plt.show()"
   ]
  },
  {
   "cell_type": "markdown",
   "metadata": {},
   "source": [
    "To conclude, we see that the $\\sigma^x$-magnetization and the $\\sigma^z\\sigma^z$-correlation are in a very good egreement for the two different methods, although there was a initial disagreement in the overlap in the GS vector. Using this result we can say confidently, QAOA is powerfull algorithm to solve complex problems in the next generations of the quantum computers.\n",
    "\n",
    "In passing we should note that, ED is a very bad method, since it is severely limited by the system size. There are many more methods to slove a quantum system in a classical computers, such as tensor netwok or quantum monte carlo, using which we can increase the system size 10-20 times of the ED. But the QAOA method can be usefull when we get a big enough quantum computer.\n",
    "\n",
    "One immediate drawback of the QAOA method is, it can't calculate the excited states (may be it can, but I am not aware of it). Another interesting question: is there a relation between the no of qubits and the circuit depth (`p`), we will explore these questions later\n",
    "\n",
    "${\\color{red}{\\bf [total~runtime: 34 mins]}}$"
   ]
  }
 ],
 "metadata": {
  "kernelspec": {
   "display_name": "Python 3",
   "language": "python",
   "name": "python3"
  },
  "language_info": {
   "codemirror_mode": {
    "name": "ipython",
    "version": 3
   },
   "file_extension": ".py",
   "mimetype": "text/x-python",
   "name": "python",
   "nbconvert_exporter": "python",
   "pygments_lexer": "ipython3",
   "version": "3.7.6"
  }
 },
 "nbformat": 4,
 "nbformat_minor": 4
}
